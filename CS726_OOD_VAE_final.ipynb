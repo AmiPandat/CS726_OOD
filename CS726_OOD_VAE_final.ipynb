{
  "nbformat": 4,
  "nbformat_minor": 0,
  "metadata": {
    "colab": {
      "provenance": []
    },
    "kernelspec": {
      "name": "python3",
      "display_name": "Python 3"
    },
    "language_info": {
      "name": "python"
    }
  },
  "cells": [
    {
      "cell_type": "markdown",
      "source": [
        "Data Preparation"
      ],
      "metadata": {
        "id": "O9WGGvvHlMCr"
      }
    },
    {
      "cell_type": "code",
      "source": [
        "import zipfile\n",
        "import os\n",
        "\n",
        "# Specify the path to your zip file\n",
        "zip_path = '/content/Data.zip'\n",
        "\n",
        "# Specify the directory to extract to\n",
        "extract_to = '/content/'\n",
        "\n",
        "# Create a directory if it doesn't exist\n",
        "os.makedirs(extract_to, exist_ok=True)\n",
        "\n",
        "# Unzipping the file\n",
        "with zipfile.ZipFile(zip_path, 'r') as zip_ref:\n",
        "    zip_ref.extractall(extract_to)\n",
        "\n",
        "print(\"Unzipping completed.\")"
      ],
      "metadata": {
        "colab": {
          "base_uri": "https://localhost:8080/"
        },
        "id": "uZgB7I3MlnEK",
        "outputId": "a0420fd7-23a1-447c-aa0d-649bf6a89199"
      },
      "execution_count": 1,
      "outputs": [
        {
          "output_type": "stream",
          "name": "stdout",
          "text": [
            "Unzipping completed.\n"
          ]
        }
      ]
    },
    {
      "cell_type": "code",
      "source": [
        "import numpy as np\n",
        "import tensorflow as tf\n",
        "from tensorflow.keras import layers, models\n",
        "import matplotlib.pyplot as plt\n"
      ],
      "metadata": {
        "id": "grn3qpV-3lQa"
      },
      "execution_count": 16,
      "outputs": []
    },
    {
      "cell_type": "code",
      "source": [
        "class Sampling(layers.Layer):\n",
        "    \"\"\"Uses (z_mean, z_log_var) to sample z, the vector encoding a digit.\"\"\"\n",
        "    def call(self, inputs):\n",
        "        z_mean, z_log_var = inputs\n",
        "        batch = tf.shape(z_mean)[0]\n",
        "        dim = tf.shape(z_mean)[1]\n",
        "        epsilon = tf.keras.backend.random_normal(shape=(batch, dim))\n",
        "        return z_mean + tf.exp(0.5 * z_log_var) * epsilon\n",
        "\n",
        "def build_vae(latent_dim=2):\n",
        "    # Encoder\n",
        "    encoder_inputs = layers.Input(shape=(256, 256, 3))\n",
        "    x = layers.Conv2D(32, 3, activation='relu', strides=2, padding='same')(encoder_inputs)\n",
        "    x = layers.Conv2D(64, 3, activation='relu', strides=2, padding='same')(x)\n",
        "    x = layers.Flatten()(x)\n",
        "    x = layers.Dense(16, activation='relu')(x)\n",
        "    z_mean = layers.Dense(latent_dim, name='z_mean')(x)\n",
        "    z_log_var = layers.Dense(latent_dim, name='z_log_var')(x)\n",
        "    z = Sampling()([z_mean, z_log_var])\n",
        "    encoder = models.Model(encoder_inputs, [z_mean, z_log_var, z], name='encoder')\n",
        "\n",
        "    # Decoder\n",
        "    latent_inputs = layers.Input(shape=(latent_dim,))\n",
        "    x = layers.Dense(64 * 64 * 32, activation='relu')(latent_inputs)\n",
        "    x = layers.Reshape((64, 64, 32))(x)\n",
        "    x = layers.Conv2DTranspose(64, 3, activation='relu', strides=2, padding='same')(x)\n",
        "    x = layers.Conv2DTranspose(32, 3, activation='relu', strides=2, padding='same')(x)\n",
        "    decoder_outputs = layers.Conv2DTranspose(3, 3, activation='sigmoid', padding='same')(x)\n",
        "    decoder = models.Model(latent_inputs, decoder_outputs, name='decoder')\n",
        "\n",
        "    # VAE\n",
        "    vae_outputs = decoder(encoder(encoder_inputs)[2])\n",
        "    vae = models.Model(encoder_inputs, vae_outputs, name='vae')\n",
        "\n",
        "    # Loss\n",
        "    reconstruction_loss = tf.reduce_mean(tf.reduce_sum(tf.keras.losses.binary_crossentropy(encoder_inputs, vae_outputs), axis=(1, 2)))\n",
        "    kl_loss = -0.5 * tf.reduce_mean(tf.reduce_sum(1 + z_log_var - tf.square(z_mean) - tf.exp(z_log_var), axis=1))\n",
        "    total_loss = reconstruction_loss + kl_loss\n",
        "    vae.add_loss(total_loss)\n",
        "    vae.compile(optimizer='adam')\n",
        "    return encoder, decoder, vae\n"
      ],
      "metadata": {
        "id": "6r1xCWl_3ukf"
      },
      "execution_count": 17,
      "outputs": []
    },
    {
      "cell_type": "code",
      "source": [
        "import os\n",
        "import numpy as np\n",
        "import tensorflow as tf\n",
        "from tensorflow.keras.preprocessing.image import img_to_array, load_img\n",
        "\n",
        "def load_images(image_dir, size=(256, 256)):\n",
        "    images = []\n",
        "    labels = []  # This could be used for supervised tasks, if needed\n",
        "    filenames = os.listdir(image_dir)\n",
        "    for filename in filenames:\n",
        "        image_path = os.path.join(image_dir, filename)\n",
        "        image = load_img(image_path, target_size=size)\n",
        "        image = img_to_array(image)\n",
        "        images.append(image)\n",
        "    return np.array(images)\n",
        "\n",
        "# Example directories\n",
        "drone_dir = '/content/Data/Drones'\n",
        "bird_dir = '/content/Data/Birds'\n",
        "\n",
        "drone_images = load_images(drone_dir)\n",
        "bird_images = load_images(bird_dir)\n",
        "\n",
        "# Normalize the images\n",
        "drone_images = drone_images.astype('float32') / 255.0\n",
        "bird_images = bird_images.astype('float32') / 255.0\n",
        "\n",
        "# Assuming you're only training on drone images\n",
        "x_train = drone_images\n"
      ],
      "metadata": {
        "id": "0FGn9PB24Hvt"
      },
      "execution_count": 18,
      "outputs": []
    },
    {
      "cell_type": "code",
      "source": [
        "latent_dim = 2\n",
        "encoder, decoder, vae = build_vae(latent_dim)\n",
        "vae.fit(x_train, x_train, epochs=50, batch_size=32, validation_split=0.1)\n"
      ],
      "metadata": {
        "colab": {
          "base_uri": "https://localhost:8080/"
        },
        "id": "7UvAEGAb4gbC",
        "outputId": "a3a23083-4c1f-41e4-c192-946777e88bc0"
      },
      "execution_count": 19,
      "outputs": [
        {
          "output_type": "stream",
          "name": "stdout",
          "text": [
            "Epoch 1/50\n",
            "13/13 [==============================] - 66s 5s/step - loss: 45508.1602 - val_loss: 44872.3047\n",
            "Epoch 2/50\n",
            "13/13 [==============================] - 59s 5s/step - loss: 44251.9961 - val_loss: 45086.3125\n",
            "Epoch 3/50\n",
            "13/13 [==============================] - 60s 5s/step - loss: 45107.5195 - val_loss: 44891.5859\n",
            "Epoch 4/50\n",
            "13/13 [==============================] - 67s 5s/step - loss: 44562.1289 - val_loss: 43515.8594\n",
            "Epoch 5/50\n",
            "13/13 [==============================] - 57s 4s/step - loss: 43574.9375 - val_loss: 42884.7305\n",
            "Epoch 6/50\n",
            "13/13 [==============================] - 77s 6s/step - loss: 43694.7969 - val_loss: 43972.4102\n",
            "Epoch 7/50\n",
            "13/13 [==============================] - 61s 5s/step - loss: 43933.0430 - val_loss: 44125.1484\n",
            "Epoch 8/50\n",
            "13/13 [==============================] - 58s 4s/step - loss: 43387.8125 - val_loss: 42430.8906\n",
            "Epoch 9/50\n",
            "13/13 [==============================] - 60s 5s/step - loss: 42931.7109 - val_loss: 42031.0625\n",
            "Epoch 10/50\n",
            "13/13 [==============================] - 60s 5s/step - loss: 42296.6641 - val_loss: 41921.2617\n",
            "Epoch 11/50\n",
            "13/13 [==============================] - 62s 5s/step - loss: 42623.0781 - val_loss: 41979.8281\n",
            "Epoch 12/50\n",
            "13/13 [==============================] - 58s 4s/step - loss: 42280.9609 - val_loss: 42068.0430\n",
            "Epoch 13/50\n",
            "13/13 [==============================] - 59s 4s/step - loss: 42395.4297 - val_loss: 41635.7344\n",
            "Epoch 14/50\n",
            "13/13 [==============================] - 57s 4s/step - loss: 41708.1211 - val_loss: 41722.6602\n",
            "Epoch 15/50\n",
            "13/13 [==============================] - 59s 4s/step - loss: 42171.0391 - val_loss: 41640.3320\n",
            "Epoch 16/50\n",
            "13/13 [==============================] - 59s 4s/step - loss: 41524.8789 - val_loss: 41612.5195\n",
            "Epoch 17/50\n",
            "13/13 [==============================] - 58s 4s/step - loss: 42092.5820 - val_loss: 41530.5000\n",
            "Epoch 18/50\n",
            "13/13 [==============================] - 57s 4s/step - loss: 41732.6641 - val_loss: 41523.7812\n",
            "Epoch 19/50\n",
            "13/13 [==============================] - 63s 5s/step - loss: 41942.5781 - val_loss: 41596.6523\n",
            "Epoch 20/50\n",
            "13/13 [==============================] - 59s 5s/step - loss: 41793.8086 - val_loss: 41413.2266\n",
            "Epoch 21/50\n",
            "13/13 [==============================] - 60s 5s/step - loss: 41942.5547 - val_loss: 41415.6250\n",
            "Epoch 22/50\n",
            "13/13 [==============================] - 60s 5s/step - loss: 41836.5977 - val_loss: 41364.6406\n",
            "Epoch 23/50\n",
            "13/13 [==============================] - 57s 4s/step - loss: 40988.6172 - val_loss: 41330.7852\n",
            "Epoch 24/50\n",
            "13/13 [==============================] - 56s 4s/step - loss: 41766.3398 - val_loss: 41466.7930\n",
            "Epoch 25/50\n",
            "13/13 [==============================] - 62s 5s/step - loss: 41037.0000 - val_loss: 41325.7656\n",
            "Epoch 26/50\n",
            "13/13 [==============================] - 55s 4s/step - loss: 41717.6914 - val_loss: 41357.1797\n",
            "Epoch 27/50\n",
            "13/13 [==============================] - 55s 4s/step - loss: 40335.8320 - val_loss: 41288.5273\n",
            "Epoch 28/50\n",
            "13/13 [==============================] - 61s 5s/step - loss: 41657.6328 - val_loss: 41395.2461\n",
            "Epoch 29/50\n",
            "13/13 [==============================] - 55s 4s/step - loss: 41635.7422 - val_loss: 41196.5469\n",
            "Epoch 30/50\n",
            "13/13 [==============================] - 57s 4s/step - loss: 41508.3906 - val_loss: 41215.9766\n",
            "Epoch 31/50\n",
            "13/13 [==============================] - 61s 5s/step - loss: 41410.1797 - val_loss: 41346.7812\n",
            "Epoch 32/50\n",
            "13/13 [==============================] - 57s 4s/step - loss: 41511.8398 - val_loss: 41476.5078\n",
            "Epoch 33/50\n",
            "13/13 [==============================] - 58s 4s/step - loss: 41184.6445 - val_loss: 41199.8594\n",
            "Epoch 34/50\n",
            "13/13 [==============================] - 62s 5s/step - loss: 41114.4766 - val_loss: 41108.4609\n",
            "Epoch 35/50\n",
            "13/13 [==============================] - 58s 4s/step - loss: 41536.3477 - val_loss: 41207.8711\n",
            "Epoch 36/50\n",
            "13/13 [==============================] - 58s 4s/step - loss: 41440.4023 - val_loss: 41128.2344\n",
            "Epoch 37/50\n",
            "13/13 [==============================] - 60s 5s/step - loss: 41287.0039 - val_loss: 41083.9297\n",
            "Epoch 38/50\n",
            "13/13 [==============================] - 61s 5s/step - loss: 41288.6797 - val_loss: 41085.9336\n",
            "Epoch 39/50\n",
            "13/13 [==============================] - 59s 5s/step - loss: 41236.6445 - val_loss: 41124.0000\n",
            "Epoch 40/50\n",
            "13/13 [==============================] - 59s 5s/step - loss: 41327.7656 - val_loss: 41066.2500\n",
            "Epoch 41/50\n",
            "13/13 [==============================] - 61s 5s/step - loss: 41249.2578 - val_loss: 41091.2969\n",
            "Epoch 42/50\n",
            "13/13 [==============================] - 58s 4s/step - loss: 40010.2500 - val_loss: 41014.1367\n",
            "Epoch 43/50\n",
            "13/13 [==============================] - 60s 5s/step - loss: 41158.7773 - val_loss: 41116.7109\n",
            "Epoch 44/50\n",
            "13/13 [==============================] - 63s 5s/step - loss: 40724.3203 - val_loss: 41089.2969\n",
            "Epoch 45/50\n",
            "13/13 [==============================] - 58s 4s/step - loss: 40802.6797 - val_loss: 41083.5820\n",
            "Epoch 46/50\n",
            "13/13 [==============================] - 59s 5s/step - loss: 41284.6445 - val_loss: 41006.8672\n",
            "Epoch 47/50\n",
            "13/13 [==============================] - 59s 5s/step - loss: 41140.4961 - val_loss: 41381.3906\n",
            "Epoch 48/50\n",
            "13/13 [==============================] - 58s 4s/step - loss: 41211.7148 - val_loss: 41028.2227\n",
            "Epoch 49/50\n",
            "13/13 [==============================] - 61s 5s/step - loss: 41083.3984 - val_loss: 40996.9141\n",
            "Epoch 50/50\n",
            "13/13 [==============================] - 60s 5s/step - loss: 41273.1016 - val_loss: 41072.8164\n"
          ]
        },
        {
          "output_type": "execute_result",
          "data": {
            "text/plain": [
              "<keras.src.callbacks.History at 0x793d7908ed40>"
            ]
          },
          "metadata": {},
          "execution_count": 19
        }
      ]
    },
    {
      "cell_type": "code",
      "source": [
        "# Save the model\n",
        "vae.save('vae_drone_model.h5')\n",
        "\n",
        "# Evaluate on a new image (could be either from drone or bird images for testing)\n",
        "def evaluate_image(image_path, model):\n",
        "    image = load_img(image_path, target_size=(256, 256))\n",
        "    image = img_to_array(image)\n",
        "    image = image.astype('float32') / 255.0\n",
        "    image = np.expand_dims(image, axis=0)  # Make it batch-like\n",
        "    reconstructed_image = model.predict(image)\n",
        "    reconstruction_error = np.mean((image - reconstructed_image) ** 2)\n",
        "    return reconstruction_error\n",
        "\n",
        "# Path to a new image\n",
        "test_image_path = '/content/Data/Birds/singleBirdinsky0.jpeg'\n",
        "error = evaluate_image(test_image_path, vae)\n",
        "print(f'Reconstruction error: {error}')\n"
      ],
      "metadata": {
        "colab": {
          "base_uri": "https://localhost:8080/"
        },
        "id": "Ftjsv0v-5UGU",
        "outputId": "7d926fce-f29d-4d7b-c7f8-dad48be1a389"
      },
      "execution_count": 21,
      "outputs": [
        {
          "output_type": "stream",
          "name": "stderr",
          "text": [
            "WARNING:tensorflow:Found duplicated `Variable`s in Model's `weights`. This is usually caused by `Variable`s being shared by Layers in the Model. These `Variable`s will be treated as separate `Variable`s when the Model is restored. To avoid this, please save with `save_format=\"tf\"`.\n"
          ]
        },
        {
          "output_type": "stream",
          "name": "stdout",
          "text": [
            "1/1 [==============================] - 0s 344ms/step\n",
            "Reconstruction error: 0.02367558144032955\n"
          ]
        }
      ]
    },
    {
      "cell_type": "code",
      "source": [
        "# Define a threshold based on your observations\n",
        "threshold = 0.01  # This value should be defined based on your specific use case\n",
        "\n",
        "# Check if an image is OOD\n",
        "is_ood = error > threshold\n",
        "print(f'Is out of distribution: {is_ood}')\n"
      ],
      "metadata": {
        "colab": {
          "base_uri": "https://localhost:8080/"
        },
        "id": "9RXRTTkF5vf_",
        "outputId": "2454f31e-87e9-4ead-a032-87b928f27c12"
      },
      "execution_count": 22,
      "outputs": [
        {
          "output_type": "stream",
          "name": "stdout",
          "text": [
            "Is out of distribution: True\n"
          ]
        }
      ]
    },
    {
      "cell_type": "code",
      "source": [
        "def calculate_reconstruction_errors(images, model):\n",
        "    reconstructed_images = model.predict(images)\n",
        "    errors = np.mean(np.square(images - reconstructed_images), axis=(1, 2, 3))\n",
        "    return errors\n"
      ],
      "metadata": {
        "id": "91v_Eg1Y5wS6"
      },
      "execution_count": 23,
      "outputs": []
    },
    {
      "cell_type": "code",
      "source": [
        "id_errors = calculate_reconstruction_errors(drone_images, vae)\n",
        "ood_errors = calculate_reconstruction_errors(bird_images, vae)\n",
        "import matplotlib.pyplot as plt\n",
        "\n",
        "def plot_histogram(id_errors, ood_errors):\n",
        "    plt.figure(figsize=(10, 6))\n",
        "    plt.hist(id_errors, bins=50, alpha=0.7, label='In-Distribution (Drone Images)')\n",
        "    plt.hist(ood_errors, bins=50, alpha=0.7, label='Out-of-Distribution (Bird Images)')\n",
        "    plt.xlabel('Reconstruction Error')\n",
        "    plt.ylabel('Frequency')\n",
        "    plt.title('Histogram of Reconstruction Errors')\n",
        "    plt.legend()\n",
        "    plt.grid(True)\n",
        "    plt.show()\n",
        "\n",
        "plot_histogram(id_errors, ood_errors)\n"
      ],
      "metadata": {
        "colab": {
          "base_uri": "https://localhost:8080/",
          "height": 575
        },
        "id": "3VUYcHNN5yZI",
        "outputId": "0717f9c3-deed-4842-c463-f654eeb35564"
      },
      "execution_count": 24,
      "outputs": [
        {
          "output_type": "stream",
          "name": "stdout",
          "text": [
            "14/14 [==============================] - 21s 1s/step\n",
            "13/13 [==============================] - 27s 2s/step\n"
          ]
        },
        {
          "output_type": "display_data",
          "data": {
            "text/plain": [
              "<Figure size 1000x600 with 1 Axes>"
            ],
            "image/png": "[encoded data removed]"
          },
          "metadata": {}
        }
      ]
    }
  ]
}